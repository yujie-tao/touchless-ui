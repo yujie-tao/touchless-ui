{
 "cells": [
  {
   "cell_type": "code",
   "execution_count": 106,
   "metadata": {},
   "outputs": [],
   "source": [
    "# import random\n",
    "# import numpy as np\n",
    "# from sklearn import svm\n",
    "\n",
    "# def main():\n",
    "# \tpalm_data = load_data('palm.txt')\n",
    "# \tstone_data = load_data('stone.txt')\n",
    "# \ttrain_data = np.concatenate([palm_data, stone_data])\n",
    "# \tprint(type(train_data[0][0]))\n",
    "\n",
    "# \tpalm_label = [0 for i in range(len(palm_data))]\n",
    "# \tstone_label = [1 for i in range(len(stone_data))]\n",
    "# \ttrain_label = palm_label + stone_label\n",
    "\n",
    "# \tclf = svm.SVC(gamma='scale')\n",
    "# \tclf.fit(train_data, train_label)  \n",
    "\n"
   ]
  },
  {
   "cell_type": "code",
   "execution_count": 110,
   "metadata": {},
   "outputs": [],
   "source": [
    "# def load_data(file_name):\n",
    "\t\n",
    "# \t# Load data\n",
    "# \tfile = open(\"mediapipe/\" + file_name)\n",
    "# \telements = file.readlines()\n",
    "\n",
    "# \t# Clean up data\n",
    "\n",
    "# \t# Check whether the last element is 'end', if not, delete the elements after the last 'end'\n",
    "# \tfor i, v in enumerate(reversed(elements)):\n",
    "# \t\tif \"end\" in v:\n",
    "# \t\t\tend_index = len(elements)-i-1\n",
    "# \t\t\tif end_index != len(elements)-1:\n",
    "# \t\t\t\telements = elements[0:end_index]\n",
    "# \t\t\tbreak\n",
    "# \telements_arr = [i.strip() for i in elements if \"end\" not in i]\n",
    "# \telements_chunk = np.array_split(elements_arr, len(elements_arr)/21)\n",
    "# \toutput = []\n",
    "# \t# Clean up data, split int sub chunk and convert coordinate from string to float\n",
    "# \tfor chunk in elements_chunk:\n",
    "# \t\tnew_chunk = [i.split(',') for i in chunk]\n",
    "# \t\tdstring_chunk = []\n",
    "# \t\tfor coord in new_chunk:\n",
    "# \t\t\tdstring = np.asarray([float(i) for i in coord])\n",
    "# \t\t\tdstring_chunk.append(dstring)\n",
    "\n",
    "# \t\toutput.append(np.asarray(dstring_chunk))\n",
    "# \toutput = np.asarray(output).reshape(len(output)*21,2)\n",
    "# \tprint(type(output[0][0]))\n",
    "# \tprint(output.shape)\n",
    "# \treturn output\n",
    "\n",
    "  \n",
    "# if __name__== \"__main__\":\n",
    "#   main()"
   ]
  },
  {
   "cell_type": "code",
   "execution_count": 123,
   "metadata": {},
   "outputs": [
    {
     "name": "stdout",
     "output_type": "stream",
     "text": [
      "<class 'int'>\n"
     ]
    }
   ],
   "source": [
    "import random\n",
    "import numpy as np\n",
    "from sklearn import svm\n",
    "\n",
    "def main():\n",
    "\tpalm_data = load_data('palm.txt')\n",
    "\tstone_data = load_data('stone.txt')\n",
    "\ttrain_data = np.concatenate([palm_data, stone_data])\n",
    "\n",
    "\tpalm_label = [0 for i in range(len(palm_data))]\n",
    "\tstone_label = [1 for i in range(len(stone_data))]\n",
    "\ttrain_label = palm_label + stone_label\n",
    "\tprint(type(train_label[0]))\n",
    "\tclf = svm.SVC(gamma='scale')\n",
    "\tclf.fit(train_data, train_label)  \n",
    "\n",
    "\n",
    "\n",
    "def load_data(file_name):\n",
    "\t\n",
    "\t# Load data\n",
    "\tfile = open(\"mediapipe/\" + file_name)\n",
    "\telements = file.readlines()\n",
    "\n",
    "\t# Clean up data\n",
    "\n",
    "\t# Check whether the last element is 'end', if not, delete the elements after the last 'end'\n",
    "\tfor i, v in enumerate(reversed(elements)):\n",
    "\t\tif \"end\" in v:\n",
    "\t\t\tend_index = len(elements)-i-1\n",
    "\t\t\tif end_index != len(elements)-1:\n",
    "\t\t\t\telements = elements[0:end_index]\n",
    "\t\t\tbreak\n",
    "\n",
    "\t# Get rid of '\\n' and all 'end' elements\n",
    "\telements_arr = [i.strip() for i in elements if \"end\" not in i]\n",
    "\t# Split into chunks with each of 21\n",
    "\telements_chunk = np.array_split(elements_arr, len(elements_arr)/21)\n",
    "\n",
    "\toutput = []\n",
    "\n",
    "\t# Clean up data, split int sub chunk and convert coordinate from string to float\n",
    "\tfor chunk in elements_chunk:\n",
    "\t\tnew_chunk = [i.split(',') for i in chunk]\n",
    "\t\tdstring_chunk = []\n",
    "\t\tfor coord in new_chunk:\n",
    "\t\t\tdstring = np.asarray([float(i) for i in coord])\n",
    "\t\t\tdstring_chunk.append(dstring)\n",
    "\n",
    "\t\toutput.append(np.asarray(dstring_chunk))\n",
    "\n",
    "\toutput = np.asarray(output).reshape(len(output)*21,2)\n",
    "\t\n",
    "\treturn output\n",
    "\n",
    "  \n",
    "if __name__== \"__main__\":\n",
    "  main()\n"
   ]
  },
  {
   "cell_type": "code",
   "execution_count": 126,
   "metadata": {},
   "outputs": [],
   "source": [
    "import sklearn"
   ]
  },
  {
   "cell_type": "code",
   "execution_count": 128,
   "metadata": {},
   "outputs": [
    {
     "data": {
      "text/plain": [
       "'0.21.3'"
      ]
     },
     "execution_count": 128,
     "metadata": {},
     "output_type": "execute_result"
    }
   ],
   "source": [
    "sklearn.__version__"
   ]
  },
  {
   "cell_type": "code",
   "execution_count": null,
   "metadata": {},
   "outputs": [],
   "source": []
  }
 ],
 "metadata": {
  "kernelspec": {
   "display_name": "Python 3",
   "language": "python",
   "name": "python3"
  },
  "language_info": {
   "codemirror_mode": {
    "name": "ipython",
    "version": 3
   },
   "file_extension": ".py",
   "mimetype": "text/x-python",
   "name": "python",
   "nbconvert_exporter": "python",
   "pygments_lexer": "ipython3",
   "version": "3.7.3"
  }
 },
 "nbformat": 4,
 "nbformat_minor": 2
}
